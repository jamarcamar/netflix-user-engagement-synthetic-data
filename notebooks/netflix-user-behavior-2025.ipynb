{
 "cells": [
  {
   "cell_type": "markdown",
   "id": "fabb0c91",
   "metadata": {},
   "source": [
    "# Setup"
   ]
  },
  {
   "cell_type": "code",
   "execution_count": 2,
   "id": "8c6e9b3e",
   "metadata": {},
   "outputs": [],
   "source": [
    "import os\n",
    "import pandas as pd\n",
    "import matplotlib.pyplot as plt\n",
    "import warnings\n",
    "warnings.filterwarnings(\"ignore\")"
   ]
  },
  {
   "cell_type": "code",
   "execution_count": 3,
   "id": "a9fe2aa9",
   "metadata": {},
   "outputs": [],
   "source": [
    "# Download the dataset from Kaggle if it doesn't exist\n",
    "if not os.path.exists(\"movies.csv\"):\n",
    "    !kaggle datasets download -d sayeeduddin/netflix-2025user-behavior-dataset-210k-records\n",
    "    !unzip netflix-2025user-behavior-dataset-210k-records.zip\n",
    "    os.remove(\"netflix-2025user-behavior-dataset-210k-records.zip\")"
   ]
  },
  {
   "cell_type": "code",
   "execution_count": 4,
   "id": "1bc4ac44",
   "metadata": {},
   "outputs": [],
   "source": [
    "base_path = os.getcwd()\n",
    "files = {\n",
    "    \"movies\": \"movie_id\",\n",
    "    \"recommendation_logs\": \"recommendation_id\",\n",
    "    \"reviews\": \"review_id\",\n",
    "    \"search_logs\": \"search_id\",\n",
    "    \"users\": \"user_id\",\n",
    "    \"watch_history\": \"session_id\"\n",
    "}\n",
    "for file, index_col in files.items():\n",
    "    globals()[file] = pd.read_csv(f\"{base_path}/{file}.csv\", index_col=index_col)"
   ]
  },
  {
   "cell_type": "markdown",
   "id": "b4295d66",
   "metadata": {},
   "source": [
    "# Exploratory Data Analysis"
   ]
  },
  {
   "cell_type": "code",
   "execution_count": 5,
   "id": "e91042bc",
   "metadata": {},
   "outputs": [
    {
     "name": "stdout",
     "output_type": "stream",
     "text": [
      "<class 'pandas.core.frame.DataFrame'>\n",
      "Index: 15450 entries, review_000001 to review_013025\n",
      "Data columns (total 11 columns):\n",
      " #   Column             Non-Null Count  Dtype  \n",
      "---  ------             --------------  -----  \n",
      " 0   user_id            15450 non-null  object \n",
      " 1   movie_id           15450 non-null  object \n",
      " 2   rating             15450 non-null  int64  \n",
      " 3   review_date        15450 non-null  object \n",
      " 4   device_type        15450 non-null  object \n",
      " 5   is_verified_watch  15450 non-null  bool   \n",
      " 6   helpful_votes      13635 non-null  float64\n",
      " 7   total_votes        13635 non-null  float64\n",
      " 8   review_text        14665 non-null  object \n",
      " 9   sentiment          15450 non-null  object \n",
      " 10  sentiment_score    14241 non-null  float64\n",
      "dtypes: bool(1), float64(3), int64(1), object(6)\n",
      "memory usage: 1.3+ MB\n"
     ]
    }
   ],
   "source": [
    "reviews.info()"
   ]
  },
  {
   "cell_type": "code",
   "execution_count": 6,
   "id": "3a363413",
   "metadata": {},
   "outputs": [
    {
     "data": {
      "application/vnd.microsoft.datawrangler.viewer.v0+json": {
       "columns": [
        {
         "name": "review_id",
         "rawType": "object",
         "type": "string"
        },
        {
         "name": "user_id",
         "rawType": "object",
         "type": "string"
        },
        {
         "name": "movie_id",
         "rawType": "object",
         "type": "string"
        },
        {
         "name": "rating",
         "rawType": "int64",
         "type": "integer"
        },
        {
         "name": "review_date",
         "rawType": "object",
         "type": "string"
        },
        {
         "name": "device_type",
         "rawType": "object",
         "type": "string"
        },
        {
         "name": "is_verified_watch",
         "rawType": "bool",
         "type": "boolean"
        },
        {
         "name": "helpful_votes",
         "rawType": "float64",
         "type": "float"
        },
        {
         "name": "total_votes",
         "rawType": "float64",
         "type": "float"
        },
        {
         "name": "review_text",
         "rawType": "object",
         "type": "string"
        },
        {
         "name": "sentiment",
         "rawType": "object",
         "type": "string"
        },
        {
         "name": "sentiment_score",
         "rawType": "float64",
         "type": "float"
        }
       ],
       "ref": "f37f8ec4-a8ea-40ed-9bd8-2a582a51a7f1",
       "rows": [
        [
         "review_000001",
         "user_07066",
         "movie_0360",
         "4",
         "2025-03-29",
         "Mobile",
         "False",
         "3.0",
         "5.0",
         "Fantastic cinematography and plot twists.",
         "positive",
         "0.711"
        ],
        [
         "review_000002",
         "user_02953",
         "movie_0095",
         "5",
         "2024-07-19",
         "Mobile",
         "True",
         "2.0",
         "2.0",
         "This series is a masterpiece!",
         "positive",
         "0.645"
        ],
        [
         "review_000003",
         "user_05528",
         "movie_0518",
         "4",
         "2025-02-11",
         "Tablet",
         "True",
         "2.0",
         "5.0",
         "Fantastic cinematography and plot twists.",
         "positive",
         "0.73"
        ],
        [
         "review_000004",
         "user_07612",
         "movie_0672",
         "5",
         "2025-11-26",
         "Mobile",
         "True",
         "7.0",
         "7.0",
         "One of the best series I've ever watched. Highly recommend!",
         "positive",
         "0.798"
        ],
        [
         "review_000005",
         "user_03424",
         "movie_0580",
         "3",
         "2025-07-11",
         "Mobile",
         "True",
         "1.0",
         "5.0",
         "Mixed feelings about this one.",
         "neutral",
         "0.41"
        ]
       ],
       "shape": {
        "columns": 11,
        "rows": 5
       }
      },
      "text/html": [
       "<div>\n",
       "<style scoped>\n",
       "    .dataframe tbody tr th:only-of-type {\n",
       "        vertical-align: middle;\n",
       "    }\n",
       "\n",
       "    .dataframe tbody tr th {\n",
       "        vertical-align: top;\n",
       "    }\n",
       "\n",
       "    .dataframe thead th {\n",
       "        text-align: right;\n",
       "    }\n",
       "</style>\n",
       "<table border=\"1\" class=\"dataframe\">\n",
       "  <thead>\n",
       "    <tr style=\"text-align: right;\">\n",
       "      <th></th>\n",
       "      <th>user_id</th>\n",
       "      <th>movie_id</th>\n",
       "      <th>rating</th>\n",
       "      <th>review_date</th>\n",
       "      <th>device_type</th>\n",
       "      <th>is_verified_watch</th>\n",
       "      <th>helpful_votes</th>\n",
       "      <th>total_votes</th>\n",
       "      <th>review_text</th>\n",
       "      <th>sentiment</th>\n",
       "      <th>sentiment_score</th>\n",
       "    </tr>\n",
       "    <tr>\n",
       "      <th>review_id</th>\n",
       "      <th></th>\n",
       "      <th></th>\n",
       "      <th></th>\n",
       "      <th></th>\n",
       "      <th></th>\n",
       "      <th></th>\n",
       "      <th></th>\n",
       "      <th></th>\n",
       "      <th></th>\n",
       "      <th></th>\n",
       "      <th></th>\n",
       "    </tr>\n",
       "  </thead>\n",
       "  <tbody>\n",
       "    <tr>\n",
       "      <th>review_000001</th>\n",
       "      <td>user_07066</td>\n",
       "      <td>movie_0360</td>\n",
       "      <td>4</td>\n",
       "      <td>2025-03-29</td>\n",
       "      <td>Mobile</td>\n",
       "      <td>False</td>\n",
       "      <td>3.0</td>\n",
       "      <td>5.0</td>\n",
       "      <td>Fantastic cinematography and plot twists.</td>\n",
       "      <td>positive</td>\n",
       "      <td>0.711</td>\n",
       "    </tr>\n",
       "    <tr>\n",
       "      <th>review_000002</th>\n",
       "      <td>user_02953</td>\n",
       "      <td>movie_0095</td>\n",
       "      <td>5</td>\n",
       "      <td>2024-07-19</td>\n",
       "      <td>Mobile</td>\n",
       "      <td>True</td>\n",
       "      <td>2.0</td>\n",
       "      <td>2.0</td>\n",
       "      <td>This series is a masterpiece!</td>\n",
       "      <td>positive</td>\n",
       "      <td>0.645</td>\n",
       "    </tr>\n",
       "    <tr>\n",
       "      <th>review_000003</th>\n",
       "      <td>user_05528</td>\n",
       "      <td>movie_0518</td>\n",
       "      <td>4</td>\n",
       "      <td>2025-02-11</td>\n",
       "      <td>Tablet</td>\n",
       "      <td>True</td>\n",
       "      <td>2.0</td>\n",
       "      <td>5.0</td>\n",
       "      <td>Fantastic cinematography and plot twists.</td>\n",
       "      <td>positive</td>\n",
       "      <td>0.730</td>\n",
       "    </tr>\n",
       "    <tr>\n",
       "      <th>review_000004</th>\n",
       "      <td>user_07612</td>\n",
       "      <td>movie_0672</td>\n",
       "      <td>5</td>\n",
       "      <td>2025-11-26</td>\n",
       "      <td>Mobile</td>\n",
       "      <td>True</td>\n",
       "      <td>7.0</td>\n",
       "      <td>7.0</td>\n",
       "      <td>One of the best series I've ever watched. High...</td>\n",
       "      <td>positive</td>\n",
       "      <td>0.798</td>\n",
       "    </tr>\n",
       "    <tr>\n",
       "      <th>review_000005</th>\n",
       "      <td>user_03424</td>\n",
       "      <td>movie_0580</td>\n",
       "      <td>3</td>\n",
       "      <td>2025-07-11</td>\n",
       "      <td>Mobile</td>\n",
       "      <td>True</td>\n",
       "      <td>1.0</td>\n",
       "      <td>5.0</td>\n",
       "      <td>Mixed feelings about this one.</td>\n",
       "      <td>neutral</td>\n",
       "      <td>0.410</td>\n",
       "    </tr>\n",
       "  </tbody>\n",
       "</table>\n",
       "</div>"
      ],
      "text/plain": [
       "                  user_id    movie_id  rating review_date device_type  \\\n",
       "review_id                                                               \n",
       "review_000001  user_07066  movie_0360       4  2025-03-29      Mobile   \n",
       "review_000002  user_02953  movie_0095       5  2024-07-19      Mobile   \n",
       "review_000003  user_05528  movie_0518       4  2025-02-11      Tablet   \n",
       "review_000004  user_07612  movie_0672       5  2025-11-26      Mobile   \n",
       "review_000005  user_03424  movie_0580       3  2025-07-11      Mobile   \n",
       "\n",
       "               is_verified_watch  helpful_votes  total_votes  \\\n",
       "review_id                                                      \n",
       "review_000001              False            3.0          5.0   \n",
       "review_000002               True            2.0          2.0   \n",
       "review_000003               True            2.0          5.0   \n",
       "review_000004               True            7.0          7.0   \n",
       "review_000005               True            1.0          5.0   \n",
       "\n",
       "                                                     review_text sentiment  \\\n",
       "review_id                                                                    \n",
       "review_000001          Fantastic cinematography and plot twists.  positive   \n",
       "review_000002                      This series is a masterpiece!  positive   \n",
       "review_000003          Fantastic cinematography and plot twists.  positive   \n",
       "review_000004  One of the best series I've ever watched. High...  positive   \n",
       "review_000005                     Mixed feelings about this one.   neutral   \n",
       "\n",
       "               sentiment_score  \n",
       "review_id                       \n",
       "review_000001            0.711  \n",
       "review_000002            0.645  \n",
       "review_000003            0.730  \n",
       "review_000004            0.798  \n",
       "review_000005            0.410  "
      ]
     },
     "execution_count": 6,
     "metadata": {},
     "output_type": "execute_result"
    }
   ],
   "source": [
    "reviews.head()"
   ]
  },
  {
   "cell_type": "code",
   "execution_count": 7,
   "id": "b1167d7a",
   "metadata": {},
   "outputs": [
    {
     "name": "stdout",
     "output_type": "stream",
     "text": [
      "<class 'pandas.core.frame.DataFrame'>\n",
      "Index: 12447 entries, review_000002 to review_013025\n",
      "Data columns (total 11 columns):\n",
      " #   Column             Non-Null Count  Dtype  \n",
      "---  ------             --------------  -----  \n",
      " 0   user_id            12447 non-null  object \n",
      " 1   movie_id           12447 non-null  object \n",
      " 2   rating             12447 non-null  int64  \n",
      " 3   review_date        12447 non-null  object \n",
      " 4   device_type        12447 non-null  object \n",
      " 5   is_verified_watch  12447 non-null  bool   \n",
      " 6   helpful_votes      11027 non-null  float64\n",
      " 7   total_votes        11027 non-null  float64\n",
      " 8   review_text        11823 non-null  object \n",
      " 9   sentiment          12447 non-null  object \n",
      " 10  sentiment_score    11462 non-null  float64\n",
      "dtypes: bool(1), float64(3), int64(1), object(6)\n",
      "memory usage: 1.1+ MB\n"
     ]
    }
   ],
   "source": [
    "# Filter the data to only include the verified watch\n",
    "reviews = reviews[reviews['is_verified_watch']]\n",
    "reviews.info()"
   ]
  },
  {
   "cell_type": "code",
   "execution_count": 8,
   "id": "333b4736",
   "metadata": {},
   "outputs": [
    {
     "data": {
      "text/plain": [
       "array(['positive', 'neutral', 'negative'], dtype=object)"
      ]
     },
     "execution_count": 8,
     "metadata": {},
     "output_type": "execute_result"
    }
   ],
   "source": [
    "# Check the types of sentiments\n",
    "reviews['sentiment'].unique()"
   ]
  },
  {
   "cell_type": "markdown",
   "id": "404ee292",
   "metadata": {},
   "source": [
    "In the `reviews` dataset, there are three categories of sentiments, `positive`, `neutral` and `negative`.\n",
    "Let's explore the distribution and counts."
   ]
  },
  {
   "cell_type": "code",
   "execution_count": 9,
   "id": "5f9d3079",
   "metadata": {},
   "outputs": [
    {
     "data": {
      "text/plain": [
       "[Text(0, 0, 'positive'), Text(1, 0, 'neutral'), Text(2, 0, 'negative')]"
      ]
     },
     "execution_count": 9,
     "metadata": {},
     "output_type": "execute_result"
    },
    {
     "data": {
      "image/png": "[encoded data removed]",
      "text/plain": [
       "<Figure size 640x480 with 1 Axes>"
      ]
     },
     "metadata": {},
     "output_type": "display_data"
    }
   ],
   "source": [
    "ax = reviews['sentiment'].value_counts(normalize=True).round(4).plot(kind='bar')\n",
    "\n",
    "for container in ax.containers:\n",
    "    ax.bar_label(container, fmt='%.4f')\n",
    "ax.set_xticklabels(ax.get_xticklabels(), rotation=0)"
   ]
  },
  {
   "cell_type": "markdown",
   "id": "b6b3c26f",
   "metadata": {},
   "source": [
    "Most of the reviews are positive which accounts to 60.34% of the total reviews. The rest are neutral and negative at 24.77% and 14.90% respectively.\n",
    "\n",
    "There's also a feature called `sentimental_score`. Let's see what constitute a `positive`, `neutral`, and `negative`."
   ]
  },
  {
   "cell_type": "code",
   "execution_count": 10,
   "id": "18d7485e",
   "metadata": {},
   "outputs": [
    {
     "name": "stdout",
     "output_type": "stream",
     "text": [
      "positive\n",
      "- max: 1.0000\n",
      "- min: 0.6000\n",
      "\n",
      "neutral\n",
      "- max: 0.6000\n",
      "- min: 0.4000\n",
      "\n",
      "negative\n",
      "- max: 0.4000\n",
      "- min: 0.0000\n",
      "\n"
     ]
    }
   ],
   "source": [
    "for sentiment in reviews['sentiment'].unique():\n",
    "    subset = reviews[reviews['sentiment'] == sentiment]\n",
    "    print(sentiment)\n",
    "    print(f\"- max: {subset['sentiment_score'].max():.4f}\")\n",
    "    print(f\"- min: {subset['sentiment_score'].min():.4f}\\n\")"
   ]
  },
  {
   "cell_type": "markdown",
   "id": "8c9ce953",
   "metadata": {},
   "source": [
    "Now that we know the boundaries of each `sentiment_score`. Let's expore the most reviewed movies."
   ]
  },
  {
   "cell_type": "code",
   "execution_count": null,
   "id": "074fb30f",
   "metadata": {},
   "outputs": [
    {
     "data": {
      "application/vnd.microsoft.datawrangler.viewer.v0+json": {
       "columns": [
        {
         "name": "review_id",
         "rawType": "object",
         "type": "string"
        },
        {
         "name": "user_id",
         "rawType": "object",
         "type": "string"
        },
        {
         "name": "movie_id",
         "rawType": "object",
         "type": "string"
        },
        {
         "name": "rating",
         "rawType": "int64",
         "type": "integer"
        },
        {
         "name": "review_date",
         "rawType": "object",
         "type": "string"
        },
        {
         "name": "device_type",
         "rawType": "object",
         "type": "string"
        },
        {
         "name": "is_verified_watch",
         "rawType": "bool",
         "type": "boolean"
        },
        {
         "name": "helpful_votes",
         "rawType": "float64",
         "type": "float"
        },
        {
         "name": "total_votes",
         "rawType": "float64",
         "type": "float"
        },
        {
         "name": "review_text",
         "rawType": "object",
         "type": "string"
        },
        {
         "name": "sentiment",
         "rawType": "object",
         "type": "string"
        },
        {
         "name": "sentiment_score",
         "rawType": "float64",
         "type": "float"
        },
        {
         "name": "title",
         "rawType": "object",
         "type": "string"
        },
        {
         "name": "content_type",
         "rawType": "object",
         "type": "string"
        },
        {
         "name": "genre_primary",
         "rawType": "object",
         "type": "string"
        }
       ],
       "ref": "e3de8a7f-47e6-436b-b90f-45ed38da80b6",
       "rows": [
        [
         "review_000002",
         "user_02953",
         "movie_0095",
         "5",
         "2024-07-19",
         "Mobile",
         "True",
         "2.0",
         "2.0",
         "This series is a masterpiece!",
         "positive",
         "0.645",
         "Legend Storm",
         "TV Series",
         "Fantasy"
        ],
        [
         "review_000003",
         "user_05528",
         "movie_0518",
         "4",
         "2025-02-11",
         "Tablet",
         "True",
         "2.0",
         "5.0",
         "Fantastic cinematography and plot twists.",
         "positive",
         "0.73",
         "A Quest",
         "Movie",
         "Horror"
        ],
        [
         "review_000004",
         "user_07612",
         "movie_0672",
         "5",
         "2025-11-26",
         "Mobile",
         "True",
         "7.0",
         "7.0",
         "One of the best series I've ever watched. Highly recommend!",
         "positive",
         "0.798",
         "Kingdom Dream",
         "Movie",
         "Biography"
        ],
        [
         "review_000005",
         "user_03424",
         "movie_0580",
         "3",
         "2025-07-11",
         "Mobile",
         "True",
         "1.0",
         "5.0",
         "Mixed feelings about this one.",
         "neutral",
         "0.41",
         "Last Love",
         "Stand-up Comedy",
         "Crime"
        ],
        [
         "review_000006",
         "user_07263",
         "movie_0708",
         "3",
         "2025-01-06",
         "Tablet",
         "True",
         "4.0",
         "5.0",
         "Okay for a one-time watch.",
         "neutral",
         null,
         "My Love",
         "Movie",
         "Music"
        ]
       ],
       "shape": {
        "columns": 14,
        "rows": 5
       }
      },
      "text/html": [
       "<div>\n",
       "<style scoped>\n",
       "    .dataframe tbody tr th:only-of-type {\n",
       "        vertical-align: middle;\n",
       "    }\n",
       "\n",
       "    .dataframe tbody tr th {\n",
       "        vertical-align: top;\n",
       "    }\n",
       "\n",
       "    .dataframe thead th {\n",
       "        text-align: right;\n",
       "    }\n",
       "</style>\n",
       "<table border=\"1\" class=\"dataframe\">\n",
       "  <thead>\n",
       "    <tr style=\"text-align: right;\">\n",
       "      <th></th>\n",
       "      <th>user_id</th>\n",
       "      <th>movie_id</th>\n",
       "      <th>rating</th>\n",
       "      <th>review_date</th>\n",
       "      <th>device_type</th>\n",
       "      <th>is_verified_watch</th>\n",
       "      <th>helpful_votes</th>\n",
       "      <th>total_votes</th>\n",
       "      <th>review_text</th>\n",
       "      <th>sentiment</th>\n",
       "      <th>sentiment_score</th>\n",
       "      <th>title</th>\n",
       "      <th>content_type</th>\n",
       "      <th>genre_primary</th>\n",
       "    </tr>\n",
       "    <tr>\n",
       "      <th>review_id</th>\n",
       "      <th></th>\n",
       "      <th></th>\n",
       "      <th></th>\n",
       "      <th></th>\n",
       "      <th></th>\n",
       "      <th></th>\n",
       "      <th></th>\n",
       "      <th></th>\n",
       "      <th></th>\n",
       "      <th></th>\n",
       "      <th></th>\n",
       "      <th></th>\n",
       "      <th></th>\n",
       "      <th></th>\n",
       "    </tr>\n",
       "  </thead>\n",
       "  <tbody>\n",
       "    <tr>\n",
       "      <th>review_000002</th>\n",
       "      <td>user_02953</td>\n",
       "      <td>movie_0095</td>\n",
       "      <td>5</td>\n",
       "      <td>2024-07-19</td>\n",
       "      <td>Mobile</td>\n",
       "      <td>True</td>\n",
       "      <td>2.0</td>\n",
       "      <td>2.0</td>\n",
       "      <td>This series is a masterpiece!</td>\n",
       "      <td>positive</td>\n",
       "      <td>0.645</td>\n",
       "      <td>Legend Storm</td>\n",
       "      <td>TV Series</td>\n",
       "      <td>Fantasy</td>\n",
       "    </tr>\n",
       "    <tr>\n",
       "      <th>review_000003</th>\n",
       "      <td>user_05528</td>\n",
       "      <td>movie_0518</td>\n",
       "      <td>4</td>\n",
       "      <td>2025-02-11</td>\n",
       "      <td>Tablet</td>\n",
       "      <td>True</td>\n",
       "      <td>2.0</td>\n",
       "      <td>5.0</td>\n",
       "      <td>Fantastic cinematography and plot twists.</td>\n",
       "      <td>positive</td>\n",
       "      <td>0.730</td>\n",
       "      <td>A Quest</td>\n",
       "      <td>Movie</td>\n",
       "      <td>Horror</td>\n",
       "    </tr>\n",
       "    <tr>\n",
       "      <th>review_000004</th>\n",
       "      <td>user_07612</td>\n",
       "      <td>movie_0672</td>\n",
       "      <td>5</td>\n",
       "      <td>2025-11-26</td>\n",
       "      <td>Mobile</td>\n",
       "      <td>True</td>\n",
       "      <td>7.0</td>\n",
       "      <td>7.0</td>\n",
       "      <td>One of the best series I've ever watched. High...</td>\n",
       "      <td>positive</td>\n",
       "      <td>0.798</td>\n",
       "      <td>Kingdom Dream</td>\n",
       "      <td>Movie</td>\n",
       "      <td>Biography</td>\n",
       "    </tr>\n",
       "    <tr>\n",
       "      <th>review_000005</th>\n",
       "      <td>user_03424</td>\n",
       "      <td>movie_0580</td>\n",
       "      <td>3</td>\n",
       "      <td>2025-07-11</td>\n",
       "      <td>Mobile</td>\n",
       "      <td>True</td>\n",
       "      <td>1.0</td>\n",
       "      <td>5.0</td>\n",
       "      <td>Mixed feelings about this one.</td>\n",
       "      <td>neutral</td>\n",
       "      <td>0.410</td>\n",
       "      <td>Last Love</td>\n",
       "      <td>Stand-up Comedy</td>\n",
       "      <td>Crime</td>\n",
       "    </tr>\n",
       "    <tr>\n",
       "      <th>review_000006</th>\n",
       "      <td>user_07263</td>\n",
       "      <td>movie_0708</td>\n",
       "      <td>3</td>\n",
       "      <td>2025-01-06</td>\n",
       "      <td>Tablet</td>\n",
       "      <td>True</td>\n",
       "      <td>4.0</td>\n",
       "      <td>5.0</td>\n",
       "      <td>Okay for a one-time watch.</td>\n",
       "      <td>neutral</td>\n",
       "      <td>NaN</td>\n",
       "      <td>My Love</td>\n",
       "      <td>Movie</td>\n",
       "      <td>Music</td>\n",
       "    </tr>\n",
       "  </tbody>\n",
       "</table>\n",
       "</div>"
      ],
      "text/plain": [
       "                  user_id    movie_id  rating review_date device_type  \\\n",
       "review_id                                                               \n",
       "review_000002  user_02953  movie_0095       5  2024-07-19      Mobile   \n",
       "review_000003  user_05528  movie_0518       4  2025-02-11      Tablet   \n",
       "review_000004  user_07612  movie_0672       5  2025-11-26      Mobile   \n",
       "review_000005  user_03424  movie_0580       3  2025-07-11      Mobile   \n",
       "review_000006  user_07263  movie_0708       3  2025-01-06      Tablet   \n",
       "\n",
       "               is_verified_watch  helpful_votes  total_votes  \\\n",
       "review_id                                                      \n",
       "review_000002               True            2.0          2.0   \n",
       "review_000003               True            2.0          5.0   \n",
       "review_000004               True            7.0          7.0   \n",
       "review_000005               True            1.0          5.0   \n",
       "review_000006               True            4.0          5.0   \n",
       "\n",
       "                                                     review_text sentiment  \\\n",
       "review_id                                                                    \n",
       "review_000002                      This series is a masterpiece!  positive   \n",
       "review_000003          Fantastic cinematography and plot twists.  positive   \n",
       "review_000004  One of the best series I've ever watched. High...  positive   \n",
       "review_000005                     Mixed feelings about this one.   neutral   \n",
       "review_000006                         Okay for a one-time watch.   neutral   \n",
       "\n",
       "               sentiment_score          title     content_type genre_primary  \n",
       "review_id                                                                     \n",
       "review_000002            0.645   Legend Storm        TV Series       Fantasy  \n",
       "review_000003            0.730        A Quest            Movie        Horror  \n",
       "review_000004            0.798  Kingdom Dream            Movie     Biography  \n",
       "review_000005            0.410      Last Love  Stand-up Comedy         Crime  \n",
       "review_000006              NaN        My Love            Movie         Music  "
      ]
     },
     "execution_count": 13,
     "metadata": {},
     "output_type": "execute_result"
    }
   ],
   "source": [
    "reviews = pd.merge(reviews, movies[['title', 'content_type', 'genre_primary']], left_on='movie_id', right_index=True, how='left')\n",
    "reviews.head"
   ]
  },
  {
   "cell_type": "code",
   "execution_count": 15,
   "id": "5433010e",
   "metadata": {},
   "outputs": [
    {
     "data": {
      "application/vnd.microsoft.datawrangler.viewer.v0+json": {
       "columns": [
        {
         "name": "movie_id",
         "rawType": "object",
         "type": "string"
        },
        {
         "name": "count",
         "rawType": "int64",
         "type": "integer"
        }
       ],
       "ref": "7a0223bd-5511-45ce-a9bd-b2bdf402201a",
       "rows": [
        [
         "movie_0138",
         "40"
        ],
        [
         "movie_0586",
         "36"
        ],
        [
         "movie_0590",
         "36"
        ],
        [
         "movie_0557",
         "34"
        ],
        [
         "movie_0996",
         "34"
        ],
        [
         "movie_0625",
         "32"
        ],
        [
         "movie_0618",
         "32"
        ],
        [
         "movie_0043",
         "30"
        ],
        [
         "movie_0452",
         "30"
        ],
        [
         "movie_0206",
         "28"
        ]
       ],
       "shape": {
        "columns": 1,
        "rows": 10
       }
      },
      "text/html": [
       "<div>\n",
       "<style scoped>\n",
       "    .dataframe tbody tr th:only-of-type {\n",
       "        vertical-align: middle;\n",
       "    }\n",
       "\n",
       "    .dataframe tbody tr th {\n",
       "        vertical-align: top;\n",
       "    }\n",
       "\n",
       "    .dataframe thead th {\n",
       "        text-align: right;\n",
       "    }\n",
       "</style>\n",
       "<table border=\"1\" class=\"dataframe\">\n",
       "  <thead>\n",
       "    <tr style=\"text-align: right;\">\n",
       "      <th></th>\n",
       "      <th>count</th>\n",
       "    </tr>\n",
       "    <tr>\n",
       "      <th>movie_id</th>\n",
       "      <th></th>\n",
       "    </tr>\n",
       "  </thead>\n",
       "  <tbody>\n",
       "    <tr>\n",
       "      <th>movie_0138</th>\n",
       "      <td>40</td>\n",
       "    </tr>\n",
       "    <tr>\n",
       "      <th>movie_0586</th>\n",
       "      <td>36</td>\n",
       "    </tr>\n",
       "    <tr>\n",
       "      <th>movie_0590</th>\n",
       "      <td>36</td>\n",
       "    </tr>\n",
       "    <tr>\n",
       "      <th>movie_0557</th>\n",
       "      <td>34</td>\n",
       "    </tr>\n",
       "    <tr>\n",
       "      <th>movie_0996</th>\n",
       "      <td>34</td>\n",
       "    </tr>\n",
       "    <tr>\n",
       "      <th>movie_0625</th>\n",
       "      <td>32</td>\n",
       "    </tr>\n",
       "    <tr>\n",
       "      <th>movie_0618</th>\n",
       "      <td>32</td>\n",
       "    </tr>\n",
       "    <tr>\n",
       "      <th>movie_0043</th>\n",
       "      <td>30</td>\n",
       "    </tr>\n",
       "    <tr>\n",
       "      <th>movie_0452</th>\n",
       "      <td>30</td>\n",
       "    </tr>\n",
       "    <tr>\n",
       "      <th>movie_0206</th>\n",
       "      <td>28</td>\n",
       "    </tr>\n",
       "  </tbody>\n",
       "</table>\n",
       "</div>"
      ],
      "text/plain": [
       "            count\n",
       "movie_id         \n",
       "movie_0138     40\n",
       "movie_0586     36\n",
       "movie_0590     36\n",
       "movie_0557     34\n",
       "movie_0996     34\n",
       "movie_0625     32\n",
       "movie_0618     32\n",
       "movie_0043     30\n",
       "movie_0452     30\n",
       "movie_0206     28"
      ]
     },
     "execution_count": 15,
     "metadata": {},
     "output_type": "execute_result"
    }
   ],
   "source": [
    "movie_review_count = reviews['movie_id'].value_counts().to_frame()\n",
    "movie_review_count.head(10)"
   ]
  },
  {
   "cell_type": "code",
   "execution_count": 17,
   "id": "a611373b",
   "metadata": {},
   "outputs": [
    {
     "ename": "KeyError",
     "evalue": "'movie_id'",
     "output_type": "error",
     "traceback": [
      "\u001b[0;31m---------------------------------------------------------------------------\u001b[0m",
      "\u001b[0;31mKeyError\u001b[0m                                  Traceback (most recent call last)",
      "\u001b[0;32m/var/folders/7m/flbx1xcd0fgdc5202g13y5c00000gn/T/ipykernel_13408/1872209972.py\u001b[0m in \u001b[0;36m?\u001b[0;34m()\u001b[0m\n\u001b[1;32m      1\u001b[0m \u001b[0;31m# Merge with movies to get more context\u001b[0m\u001b[0;34m\u001b[0m\u001b[0;34m\u001b[0m\u001b[0m\n\u001b[0;32m----> 2\u001b[0;31m \u001b[0mmost_reviewed_movies\u001b[0m \u001b[0;34m=\u001b[0m \u001b[0mpd\u001b[0m\u001b[0;34m.\u001b[0m\u001b[0mmerge\u001b[0m\u001b[0;34m(\u001b[0m\u001b[0mmovie_review_count\u001b[0m\u001b[0;34m,\u001b[0m \u001b[0mreviews\u001b[0m\u001b[0;34m[\u001b[0m\u001b[0;34m[\u001b[0m\u001b[0;34m'title'\u001b[0m\u001b[0;34m,\u001b[0m \u001b[0;34m'content_type'\u001b[0m\u001b[0;34m,\u001b[0m \u001b[0;34m'genre_primary'\u001b[0m\u001b[0;34m]\u001b[0m\u001b[0;34m]\u001b[0m\u001b[0;34m,\u001b[0m \u001b[0mleft_index\u001b[0m\u001b[0;34m=\u001b[0m\u001b[0;32mTrue\u001b[0m\u001b[0;34m,\u001b[0m \u001b[0mright_on\u001b[0m\u001b[0;34m=\u001b[0m\u001b[0;34m'movie_id'\u001b[0m\u001b[0;34m)\u001b[0m\u001b[0;34m\u001b[0m\u001b[0;34m\u001b[0m\u001b[0m\n\u001b[0m\u001b[1;32m      3\u001b[0m \u001b[0mmost_reviewed_movies\u001b[0m\u001b[0;34m.\u001b[0m\u001b[0mhead\u001b[0m\u001b[0;34m(\u001b[0m\u001b[0;36m10\u001b[0m\u001b[0;34m)\u001b[0m\u001b[0;34m\u001b[0m\u001b[0;34m\u001b[0m\u001b[0m\n",
      "\u001b[0;32m/opt/anaconda3/lib/python3.13/site-packages/pandas/core/reshape/merge.py\u001b[0m in \u001b[0;36m?\u001b[0;34m(left, right, how, on, left_on, right_on, left_index, right_index, sort, suffixes, copy, indicator, validate)\u001b[0m\n\u001b[1;32m    166\u001b[0m             \u001b[0mvalidate\u001b[0m\u001b[0;34m=\u001b[0m\u001b[0mvalidate\u001b[0m\u001b[0;34m,\u001b[0m\u001b[0;34m\u001b[0m\u001b[0;34m\u001b[0m\u001b[0m\n\u001b[1;32m    167\u001b[0m             \u001b[0mcopy\u001b[0m\u001b[0;34m=\u001b[0m\u001b[0mcopy\u001b[0m\u001b[0;34m,\u001b[0m\u001b[0;34m\u001b[0m\u001b[0;34m\u001b[0m\u001b[0m\n\u001b[1;32m    168\u001b[0m         \u001b[0;34m)\u001b[0m\u001b[0;34m\u001b[0m\u001b[0;34m\u001b[0m\u001b[0m\n\u001b[1;32m    169\u001b[0m     \u001b[0;32melse\u001b[0m\u001b[0;34m:\u001b[0m\u001b[0;34m\u001b[0m\u001b[0;34m\u001b[0m\u001b[0m\n\u001b[0;32m--> 170\u001b[0;31m         op = _MergeOperation(\n\u001b[0m\u001b[1;32m    171\u001b[0m             \u001b[0mleft_df\u001b[0m\u001b[0;34m,\u001b[0m\u001b[0;34m\u001b[0m\u001b[0;34m\u001b[0m\u001b[0m\n\u001b[1;32m    172\u001b[0m             \u001b[0mright_df\u001b[0m\u001b[0;34m,\u001b[0m\u001b[0;34m\u001b[0m\u001b[0;34m\u001b[0m\u001b[0m\n\u001b[1;32m    173\u001b[0m             \u001b[0mhow\u001b[0m\u001b[0;34m=\u001b[0m\u001b[0mhow\u001b[0m\u001b[0;34m,\u001b[0m\u001b[0;34m\u001b[0m\u001b[0;34m\u001b[0m\u001b[0m\n",
      "\u001b[0;32m/opt/anaconda3/lib/python3.13/site-packages/pandas/core/reshape/merge.py\u001b[0m in \u001b[0;36m?\u001b[0;34m(self, left, right, how, on, left_on, right_on, left_index, right_index, sort, suffixes, indicator, validate)\u001b[0m\n\u001b[1;32m    790\u001b[0m             \u001b[0mself\u001b[0m\u001b[0;34m.\u001b[0m\u001b[0mright_join_keys\u001b[0m\u001b[0;34m,\u001b[0m\u001b[0;34m\u001b[0m\u001b[0;34m\u001b[0m\u001b[0m\n\u001b[1;32m    791\u001b[0m             \u001b[0mself\u001b[0m\u001b[0;34m.\u001b[0m\u001b[0mjoin_names\u001b[0m\u001b[0;34m,\u001b[0m\u001b[0;34m\u001b[0m\u001b[0;34m\u001b[0m\u001b[0m\n\u001b[1;32m    792\u001b[0m             \u001b[0mleft_drop\u001b[0m\u001b[0;34m,\u001b[0m\u001b[0;34m\u001b[0m\u001b[0;34m\u001b[0m\u001b[0m\n\u001b[1;32m    793\u001b[0m             \u001b[0mright_drop\u001b[0m\u001b[0;34m,\u001b[0m\u001b[0;34m\u001b[0m\u001b[0;34m\u001b[0m\u001b[0m\n\u001b[0;32m--> 794\u001b[0;31m         \u001b[0;34m)\u001b[0m \u001b[0;34m=\u001b[0m \u001b[0mself\u001b[0m\u001b[0;34m.\u001b[0m\u001b[0m_get_merge_keys\u001b[0m\u001b[0;34m(\u001b[0m\u001b[0;34m)\u001b[0m\u001b[0;34m\u001b[0m\u001b[0;34m\u001b[0m\u001b[0m\n\u001b[0m\u001b[1;32m    795\u001b[0m \u001b[0;34m\u001b[0m\u001b[0m\n\u001b[1;32m    796\u001b[0m         \u001b[0;32mif\u001b[0m \u001b[0mleft_drop\u001b[0m\u001b[0;34m:\u001b[0m\u001b[0;34m\u001b[0m\u001b[0;34m\u001b[0m\u001b[0m\n\u001b[1;32m    797\u001b[0m             \u001b[0mself\u001b[0m\u001b[0;34m.\u001b[0m\u001b[0mleft\u001b[0m \u001b[0;34m=\u001b[0m \u001b[0mself\u001b[0m\u001b[0;34m.\u001b[0m\u001b[0mleft\u001b[0m\u001b[0;34m.\u001b[0m\u001b[0m_drop_labels_or_levels\u001b[0m\u001b[0;34m(\u001b[0m\u001b[0mleft_drop\u001b[0m\u001b[0;34m)\u001b[0m\u001b[0;34m\u001b[0m\u001b[0;34m\u001b[0m\u001b[0m\n",
      "\u001b[0;32m/opt/anaconda3/lib/python3.13/site-packages/pandas/core/reshape/merge.py\u001b[0m in \u001b[0;36m?\u001b[0;34m(self)\u001b[0m\n\u001b[1;32m   1345\u001b[0m                 \u001b[0;32melse\u001b[0m\u001b[0;34m:\u001b[0m\u001b[0;34m\u001b[0m\u001b[0;34m\u001b[0m\u001b[0m\n\u001b[1;32m   1346\u001b[0m                     \u001b[0;31m# Then we're either Hashable or a wrong-length arraylike,\u001b[0m\u001b[0;34m\u001b[0m\u001b[0;34m\u001b[0m\u001b[0m\n\u001b[1;32m   1347\u001b[0m                     \u001b[0;31m#  the latter of which will raise\u001b[0m\u001b[0;34m\u001b[0m\u001b[0;34m\u001b[0m\u001b[0m\n\u001b[1;32m   1348\u001b[0m                     \u001b[0mk\u001b[0m \u001b[0;34m=\u001b[0m \u001b[0mcast\u001b[0m\u001b[0;34m(\u001b[0m\u001b[0mHashable\u001b[0m\u001b[0;34m,\u001b[0m \u001b[0mk\u001b[0m\u001b[0;34m)\u001b[0m\u001b[0;34m\u001b[0m\u001b[0;34m\u001b[0m\u001b[0m\n\u001b[0;32m-> 1349\u001b[0;31m                     \u001b[0mright_keys\u001b[0m\u001b[0;34m.\u001b[0m\u001b[0mappend\u001b[0m\u001b[0;34m(\u001b[0m\u001b[0mright\u001b[0m\u001b[0;34m.\u001b[0m\u001b[0m_get_label_or_level_values\u001b[0m\u001b[0;34m(\u001b[0m\u001b[0mk\u001b[0m\u001b[0;34m)\u001b[0m\u001b[0;34m)\u001b[0m\u001b[0;34m\u001b[0m\u001b[0;34m\u001b[0m\u001b[0m\n\u001b[0m\u001b[1;32m   1350\u001b[0m                     \u001b[0mjoin_names\u001b[0m\u001b[0;34m.\u001b[0m\u001b[0mappend\u001b[0m\u001b[0;34m(\u001b[0m\u001b[0mk\u001b[0m\u001b[0;34m)\u001b[0m\u001b[0;34m\u001b[0m\u001b[0;34m\u001b[0m\u001b[0m\n\u001b[1;32m   1351\u001b[0m             \u001b[0;32mif\u001b[0m \u001b[0misinstance\u001b[0m\u001b[0;34m(\u001b[0m\u001b[0mself\u001b[0m\u001b[0;34m.\u001b[0m\u001b[0mleft\u001b[0m\u001b[0;34m.\u001b[0m\u001b[0mindex\u001b[0m\u001b[0;34m,\u001b[0m \u001b[0mMultiIndex\u001b[0m\u001b[0;34m)\u001b[0m\u001b[0;34m:\u001b[0m\u001b[0;34m\u001b[0m\u001b[0;34m\u001b[0m\u001b[0m\n\u001b[1;32m   1352\u001b[0m                 left_keys = [\n",
      "\u001b[0;32m/opt/anaconda3/lib/python3.13/site-packages/pandas/core/generic.py\u001b[0m in \u001b[0;36m?\u001b[0;34m(self, key, axis)\u001b[0m\n\u001b[1;32m   1907\u001b[0m             \u001b[0mvalues\u001b[0m \u001b[0;34m=\u001b[0m \u001b[0mself\u001b[0m\u001b[0;34m.\u001b[0m\u001b[0mxs\u001b[0m\u001b[0;34m(\u001b[0m\u001b[0mkey\u001b[0m\u001b[0;34m,\u001b[0m \u001b[0maxis\u001b[0m\u001b[0;34m=\u001b[0m\u001b[0mother_axes\u001b[0m\u001b[0;34m[\u001b[0m\u001b[0;36m0\u001b[0m\u001b[0;34m]\u001b[0m\u001b[0;34m)\u001b[0m\u001b[0;34m.\u001b[0m\u001b[0m_values\u001b[0m\u001b[0;34m\u001b[0m\u001b[0;34m\u001b[0m\u001b[0m\n\u001b[1;32m   1908\u001b[0m         \u001b[0;32melif\u001b[0m \u001b[0mself\u001b[0m\u001b[0;34m.\u001b[0m\u001b[0m_is_level_reference\u001b[0m\u001b[0;34m(\u001b[0m\u001b[0mkey\u001b[0m\u001b[0;34m,\u001b[0m \u001b[0maxis\u001b[0m\u001b[0;34m=\u001b[0m\u001b[0maxis\u001b[0m\u001b[0;34m)\u001b[0m\u001b[0;34m:\u001b[0m\u001b[0;34m\u001b[0m\u001b[0;34m\u001b[0m\u001b[0m\n\u001b[1;32m   1909\u001b[0m             \u001b[0mvalues\u001b[0m \u001b[0;34m=\u001b[0m \u001b[0mself\u001b[0m\u001b[0;34m.\u001b[0m\u001b[0maxes\u001b[0m\u001b[0;34m[\u001b[0m\u001b[0maxis\u001b[0m\u001b[0;34m]\u001b[0m\u001b[0;34m.\u001b[0m\u001b[0mget_level_values\u001b[0m\u001b[0;34m(\u001b[0m\u001b[0mkey\u001b[0m\u001b[0;34m)\u001b[0m\u001b[0;34m.\u001b[0m\u001b[0m_values\u001b[0m\u001b[0;34m\u001b[0m\u001b[0;34m\u001b[0m\u001b[0m\n\u001b[1;32m   1910\u001b[0m         \u001b[0;32melse\u001b[0m\u001b[0;34m:\u001b[0m\u001b[0;34m\u001b[0m\u001b[0;34m\u001b[0m\u001b[0m\n\u001b[0;32m-> 1911\u001b[0;31m             \u001b[0;32mraise\u001b[0m \u001b[0mKeyError\u001b[0m\u001b[0;34m(\u001b[0m\u001b[0mkey\u001b[0m\u001b[0;34m)\u001b[0m\u001b[0;34m\u001b[0m\u001b[0;34m\u001b[0m\u001b[0m\n\u001b[0m\u001b[1;32m   1912\u001b[0m \u001b[0;34m\u001b[0m\u001b[0m\n\u001b[1;32m   1913\u001b[0m         \u001b[0;31m# Check for duplicates\u001b[0m\u001b[0;34m\u001b[0m\u001b[0;34m\u001b[0m\u001b[0m\n\u001b[1;32m   1914\u001b[0m         \u001b[0;32mif\u001b[0m \u001b[0mvalues\u001b[0m\u001b[0;34m.\u001b[0m\u001b[0mndim\u001b[0m \u001b[0;34m>\u001b[0m \u001b[0;36m1\u001b[0m\u001b[0;34m:\u001b[0m\u001b[0;34m\u001b[0m\u001b[0;34m\u001b[0m\u001b[0m\n",
      "\u001b[0;31mKeyError\u001b[0m: 'movie_id'"
     ]
    }
   ],
   "source": [
    "# Merge with movies to get more context\n",
    "most_reviewed_movies = pd.merge(movie_review_count, reviews[['title', 'content_type', 'genre_primary']], left_index=True, right_on='movie_id')\n",
    "most_reviewed_movies.head(10)"
   ]
  },
  {
   "cell_type": "code",
   "execution_count": 88,
   "id": "bb7e1dbe",
   "metadata": {},
   "outputs": [
    {
     "data": {
      "application/vnd.microsoft.datawrangler.viewer.v0+json": {
       "columns": [
        {
         "name": "movie_id",
         "rawType": "object",
         "type": "string"
        },
        {
         "name": "count",
         "rawType": "int64",
         "type": "integer"
        },
        {
         "name": "title",
         "rawType": "object",
         "type": "string"
        },
        {
         "name": "content_type",
         "rawType": "object",
         "type": "string"
        },
        {
         "name": "genre_primary",
         "rawType": "object",
         "type": "string"
        }
       ],
       "ref": "c47a5c48-780a-439c-9b22-3f2107cc78ed",
       "rows": [
        [
         "movie_0636",
         "17",
         "Last Mission",
         "Stand-up Comedy",
         "Music"
        ],
        [
         "movie_0440",
         "16",
         "Love War",
         "Movie",
         "Biography"
        ],
        [
         "movie_0276",
         "16",
         "Dark Storm",
         "TV Series",
         "Family"
        ],
        [
         "movie_0049",
         "16",
         "Kingdom Day",
         "Movie",
         "Thriller"
        ],
        [
         "movie_0453",
         "15",
         "Princess Dream",
         "Movie",
         "Adventure"
        ],
        [
         "movie_0335",
         "15",
         "Quest Mission",
         "TV Series",
         "Crime"
        ],
        [
         "movie_0317",
         "15",
         "Mystery Love",
         "Movie",
         "Drama"
        ],
        [
         "movie_0668",
         "15",
         "Day Journey",
         "Movie",
         "Crime"
        ],
        [
         "movie_0312",
         "15",
         "King Legend",
         "TV Series",
         "Romance"
        ],
        [
         "movie_0016",
         "15",
         "Last Dream",
         "TV Series",
         "Family"
        ]
       ],
       "shape": {
        "columns": 4,
        "rows": 10
       }
      },
      "text/html": [
       "<div>\n",
       "<style scoped>\n",
       "    .dataframe tbody tr th:only-of-type {\n",
       "        vertical-align: middle;\n",
       "    }\n",
       "\n",
       "    .dataframe tbody tr th {\n",
       "        vertical-align: top;\n",
       "    }\n",
       "\n",
       "    .dataframe thead th {\n",
       "        text-align: right;\n",
       "    }\n",
       "</style>\n",
       "<table border=\"1\" class=\"dataframe\">\n",
       "  <thead>\n",
       "    <tr style=\"text-align: right;\">\n",
       "      <th></th>\n",
       "      <th>count</th>\n",
       "      <th>title</th>\n",
       "      <th>content_type</th>\n",
       "      <th>genre_primary</th>\n",
       "    </tr>\n",
       "    <tr>\n",
       "      <th>movie_id</th>\n",
       "      <th></th>\n",
       "      <th></th>\n",
       "      <th></th>\n",
       "      <th></th>\n",
       "    </tr>\n",
       "  </thead>\n",
       "  <tbody>\n",
       "    <tr>\n",
       "      <th>movie_0636</th>\n",
       "      <td>17</td>\n",
       "      <td>Last Mission</td>\n",
       "      <td>Stand-up Comedy</td>\n",
       "      <td>Music</td>\n",
       "    </tr>\n",
       "    <tr>\n",
       "      <th>movie_0440</th>\n",
       "      <td>16</td>\n",
       "      <td>Love War</td>\n",
       "      <td>Movie</td>\n",
       "      <td>Biography</td>\n",
       "    </tr>\n",
       "    <tr>\n",
       "      <th>movie_0276</th>\n",
       "      <td>16</td>\n",
       "      <td>Dark Storm</td>\n",
       "      <td>TV Series</td>\n",
       "      <td>Family</td>\n",
       "    </tr>\n",
       "    <tr>\n",
       "      <th>movie_0049</th>\n",
       "      <td>16</td>\n",
       "      <td>Kingdom Day</td>\n",
       "      <td>Movie</td>\n",
       "      <td>Thriller</td>\n",
       "    </tr>\n",
       "    <tr>\n",
       "      <th>movie_0453</th>\n",
       "      <td>15</td>\n",
       "      <td>Princess Dream</td>\n",
       "      <td>Movie</td>\n",
       "      <td>Adventure</td>\n",
       "    </tr>\n",
       "    <tr>\n",
       "      <th>movie_0335</th>\n",
       "      <td>15</td>\n",
       "      <td>Quest Mission</td>\n",
       "      <td>TV Series</td>\n",
       "      <td>Crime</td>\n",
       "    </tr>\n",
       "    <tr>\n",
       "      <th>movie_0317</th>\n",
       "      <td>15</td>\n",
       "      <td>Mystery Love</td>\n",
       "      <td>Movie</td>\n",
       "      <td>Drama</td>\n",
       "    </tr>\n",
       "    <tr>\n",
       "      <th>movie_0668</th>\n",
       "      <td>15</td>\n",
       "      <td>Day Journey</td>\n",
       "      <td>Movie</td>\n",
       "      <td>Crime</td>\n",
       "    </tr>\n",
       "    <tr>\n",
       "      <th>movie_0312</th>\n",
       "      <td>15</td>\n",
       "      <td>King Legend</td>\n",
       "      <td>TV Series</td>\n",
       "      <td>Romance</td>\n",
       "    </tr>\n",
       "    <tr>\n",
       "      <th>movie_0016</th>\n",
       "      <td>15</td>\n",
       "      <td>Last Dream</td>\n",
       "      <td>TV Series</td>\n",
       "      <td>Family</td>\n",
       "    </tr>\n",
       "  </tbody>\n",
       "</table>\n",
       "</div>"
      ],
      "text/plain": [
       "            count           title     content_type genre_primary\n",
       "movie_id                                                        \n",
       "movie_0636     17    Last Mission  Stand-up Comedy         Music\n",
       "movie_0440     16        Love War            Movie     Biography\n",
       "movie_0276     16      Dark Storm        TV Series        Family\n",
       "movie_0049     16     Kingdom Day            Movie      Thriller\n",
       "movie_0453     15  Princess Dream            Movie     Adventure\n",
       "movie_0335     15   Quest Mission        TV Series         Crime\n",
       "movie_0317     15    Mystery Love            Movie         Drama\n",
       "movie_0668     15     Day Journey            Movie         Crime\n",
       "movie_0312     15     King Legend        TV Series       Romance\n",
       "movie_0016     15      Last Dream        TV Series        Family"
      ]
     },
     "execution_count": 88,
     "metadata": {},
     "output_type": "execute_result"
    }
   ],
   "source": [
    "# Most positively reviewed movies\n",
    "most_positive_reviews = reviews[reviews['sentiment'] == 'positive']['movie_id'].value_counts().to_frame()\n",
    "most_positive_reviews = pd.merge(most_positive_reviews, movies[['title', 'content_type', 'genre_primary']], left_index=True, right_on='movie_id')\n",
    "most_positive_reviews.head(10)"
   ]
  },
  {
   "cell_type": "code",
   "execution_count": 89,
   "id": "24b78439",
   "metadata": {},
   "outputs": [
    {
     "data": {
      "application/vnd.microsoft.datawrangler.viewer.v0+json": {
       "columns": [
        {
         "name": "movie_id",
         "rawType": "object",
         "type": "string"
        },
        {
         "name": "count",
         "rawType": "int64",
         "type": "integer"
        },
        {
         "name": "title",
         "rawType": "object",
         "type": "string"
        },
        {
         "name": "content_type",
         "rawType": "object",
         "type": "string"
        },
        {
         "name": "genre_primary",
         "rawType": "object",
         "type": "string"
        }
       ],
       "ref": "2839c930-d779-450c-bc52-a9dd7aa56969",
       "rows": [
        [
         "movie_0246",
         "9",
         "Empire Adventure",
         "Documentary",
         "Documentary"
        ],
        [
         "movie_0180",
         "8",
         "Story Queen",
         "TV Series",
         "Action"
        ],
        [
         "movie_0178",
         "7",
         "Our Princess",
         "TV Series",
         "Animation"
        ],
        [
         "movie_0437",
         "7",
         "Ice Secret",
         "Movie",
         "Animation"
        ],
        [
         "movie_0359",
         "6",
         "Quest Hero",
         "Movie",
         "Biography"
        ],
        [
         "movie_0017",
         "6",
         "Kingdom Battle",
         "Stand-up Comedy",
         "War"
        ],
        [
         "movie_0369",
         "6",
         "Big Ice",
         "Documentary",
         "Family"
        ],
        [
         "movie_0339",
         "6",
         "Big Empire",
         "Movie",
         "Fantasy"
        ],
        [
         "movie_0839",
         "6",
         "Journey War",
         "Movie",
         "War"
        ],
        [
         "movie_0086",
         "6",
         "Big Adventure",
         "Documentary",
         "Biography"
        ]
       ],
       "shape": {
        "columns": 4,
        "rows": 10
       }
      },
      "text/html": [
       "<div>\n",
       "<style scoped>\n",
       "    .dataframe tbody tr th:only-of-type {\n",
       "        vertical-align: middle;\n",
       "    }\n",
       "\n",
       "    .dataframe tbody tr th {\n",
       "        vertical-align: top;\n",
       "    }\n",
       "\n",
       "    .dataframe thead th {\n",
       "        text-align: right;\n",
       "    }\n",
       "</style>\n",
       "<table border=\"1\" class=\"dataframe\">\n",
       "  <thead>\n",
       "    <tr style=\"text-align: right;\">\n",
       "      <th></th>\n",
       "      <th>count</th>\n",
       "      <th>title</th>\n",
       "      <th>content_type</th>\n",
       "      <th>genre_primary</th>\n",
       "    </tr>\n",
       "    <tr>\n",
       "      <th>movie_id</th>\n",
       "      <th></th>\n",
       "      <th></th>\n",
       "      <th></th>\n",
       "      <th></th>\n",
       "    </tr>\n",
       "  </thead>\n",
       "  <tbody>\n",
       "    <tr>\n",
       "      <th>movie_0246</th>\n",
       "      <td>9</td>\n",
       "      <td>Empire Adventure</td>\n",
       "      <td>Documentary</td>\n",
       "      <td>Documentary</td>\n",
       "    </tr>\n",
       "    <tr>\n",
       "      <th>movie_0180</th>\n",
       "      <td>8</td>\n",
       "      <td>Story Queen</td>\n",
       "      <td>TV Series</td>\n",
       "      <td>Action</td>\n",
       "    </tr>\n",
       "    <tr>\n",
       "      <th>movie_0178</th>\n",
       "      <td>7</td>\n",
       "      <td>Our Princess</td>\n",
       "      <td>TV Series</td>\n",
       "      <td>Animation</td>\n",
       "    </tr>\n",
       "    <tr>\n",
       "      <th>movie_0437</th>\n",
       "      <td>7</td>\n",
       "      <td>Ice Secret</td>\n",
       "      <td>Movie</td>\n",
       "      <td>Animation</td>\n",
       "    </tr>\n",
       "    <tr>\n",
       "      <th>movie_0359</th>\n",
       "      <td>6</td>\n",
       "      <td>Quest Hero</td>\n",
       "      <td>Movie</td>\n",
       "      <td>Biography</td>\n",
       "    </tr>\n",
       "    <tr>\n",
       "      <th>movie_0017</th>\n",
       "      <td>6</td>\n",
       "      <td>Kingdom Battle</td>\n",
       "      <td>Stand-up Comedy</td>\n",
       "      <td>War</td>\n",
       "    </tr>\n",
       "    <tr>\n",
       "      <th>movie_0369</th>\n",
       "      <td>6</td>\n",
       "      <td>Big Ice</td>\n",
       "      <td>Documentary</td>\n",
       "      <td>Family</td>\n",
       "    </tr>\n",
       "    <tr>\n",
       "      <th>movie_0339</th>\n",
       "      <td>6</td>\n",
       "      <td>Big Empire</td>\n",
       "      <td>Movie</td>\n",
       "      <td>Fantasy</td>\n",
       "    </tr>\n",
       "    <tr>\n",
       "      <th>movie_0839</th>\n",
       "      <td>6</td>\n",
       "      <td>Journey War</td>\n",
       "      <td>Movie</td>\n",
       "      <td>War</td>\n",
       "    </tr>\n",
       "    <tr>\n",
       "      <th>movie_0086</th>\n",
       "      <td>6</td>\n",
       "      <td>Big Adventure</td>\n",
       "      <td>Documentary</td>\n",
       "      <td>Biography</td>\n",
       "    </tr>\n",
       "  </tbody>\n",
       "</table>\n",
       "</div>"
      ],
      "text/plain": [
       "            count             title     content_type genre_primary\n",
       "movie_id                                                          \n",
       "movie_0246      9  Empire Adventure      Documentary   Documentary\n",
       "movie_0180      8       Story Queen        TV Series        Action\n",
       "movie_0178      7      Our Princess        TV Series     Animation\n",
       "movie_0437      7        Ice Secret            Movie     Animation\n",
       "movie_0359      6        Quest Hero            Movie     Biography\n",
       "movie_0017      6    Kingdom Battle  Stand-up Comedy           War\n",
       "movie_0369      6           Big Ice      Documentary        Family\n",
       "movie_0339      6        Big Empire            Movie       Fantasy\n",
       "movie_0839      6       Journey War            Movie           War\n",
       "movie_0086      6     Big Adventure      Documentary     Biography"
      ]
     },
     "execution_count": 89,
     "metadata": {},
     "output_type": "execute_result"
    }
   ],
   "source": [
    "# Most negatively reviewed movies\n",
    "most_negative_reviews = reviews[reviews['sentiment'] == 'negative']['movie_id'].value_counts().to_frame()\n",
    "most_negative_reviews = pd.merge(most_negative_reviews, movies[['title', 'content_type', 'genre_primary']], left_index=True, right_on='movie_id')\n",
    "most_negative_reviews.head(10)"
   ]
  },
  {
   "cell_type": "code",
   "execution_count": 98,
   "id": "587d3966",
   "metadata": {},
   "outputs": [
    {
     "data": {
      "application/vnd.microsoft.datawrangler.viewer.v0+json": {
       "columns": [
        {
         "name": "genre_primary",
         "rawType": "object",
         "type": "string"
        },
        {
         "name": "count",
         "rawType": "int64",
         "type": "integer"
        }
       ],
       "ref": "6af45167-cff2-4d17-adc4-7cc91252be05",
       "rows": [
        [
         "Adventure",
         "870"
        ],
        [
         "Animation",
         "770"
        ],
        [
         "War",
         "764"
        ],
        [
         "Sci-Fi",
         "749"
        ],
        [
         "Comedy",
         "713"
        ],
        [
         "Action",
         "709"
        ],
        [
         "History",
         "689"
        ],
        [
         "Biography",
         "663"
        ],
        [
         "Western",
         "656"
        ],
        [
         "Crime",
         "647"
        ]
       ],
       "shape": {
        "columns": 1,
        "rows": 10
       }
      },
      "text/html": [
       "<div>\n",
       "<style scoped>\n",
       "    .dataframe tbody tr th:only-of-type {\n",
       "        vertical-align: middle;\n",
       "    }\n",
       "\n",
       "    .dataframe tbody tr th {\n",
       "        vertical-align: top;\n",
       "    }\n",
       "\n",
       "    .dataframe thead th {\n",
       "        text-align: right;\n",
       "    }\n",
       "</style>\n",
       "<table border=\"1\" class=\"dataframe\">\n",
       "  <thead>\n",
       "    <tr style=\"text-align: right;\">\n",
       "      <th></th>\n",
       "      <th>count</th>\n",
       "    </tr>\n",
       "    <tr>\n",
       "      <th>genre_primary</th>\n",
       "      <th></th>\n",
       "    </tr>\n",
       "  </thead>\n",
       "  <tbody>\n",
       "    <tr>\n",
       "      <th>Adventure</th>\n",
       "      <td>870</td>\n",
       "    </tr>\n",
       "    <tr>\n",
       "      <th>Animation</th>\n",
       "      <td>770</td>\n",
       "    </tr>\n",
       "    <tr>\n",
       "      <th>War</th>\n",
       "      <td>764</td>\n",
       "    </tr>\n",
       "    <tr>\n",
       "      <th>Sci-Fi</th>\n",
       "      <td>749</td>\n",
       "    </tr>\n",
       "    <tr>\n",
       "      <th>Comedy</th>\n",
       "      <td>713</td>\n",
       "    </tr>\n",
       "    <tr>\n",
       "      <th>Action</th>\n",
       "      <td>709</td>\n",
       "    </tr>\n",
       "    <tr>\n",
       "      <th>History</th>\n",
       "      <td>689</td>\n",
       "    </tr>\n",
       "    <tr>\n",
       "      <th>Biography</th>\n",
       "      <td>663</td>\n",
       "    </tr>\n",
       "    <tr>\n",
       "      <th>Western</th>\n",
       "      <td>656</td>\n",
       "    </tr>\n",
       "    <tr>\n",
       "      <th>Crime</th>\n",
       "      <td>647</td>\n",
       "    </tr>\n",
       "  </tbody>\n",
       "</table>\n",
       "</div>"
      ],
      "text/plain": [
       "               count\n",
       "genre_primary       \n",
       "Adventure        870\n",
       "Animation        770\n",
       "War              764\n",
       "Sci-Fi           749\n",
       "Comedy           713\n",
       "Action           709\n",
       "History          689\n",
       "Biography        663\n",
       "Western          656\n",
       "Crime            647"
      ]
     },
     "execution_count": 98,
     "metadata": {},
     "output_type": "execute_result"
    }
   ],
   "source": [
    "# Most reviewed genre_primary\n",
    "most_reviewed_genres = pd.merge(reviews, movies[['genre_primary']], left_on='movie_id', right_index=True)\n",
    "most_reviewed_genres = most_reviewed_genres['genre_primary'].value_counts().to_frame()\n",
    "most_reviewed_genres.head(10)   "
   ]
  },
  {
   "cell_type": "code",
   "execution_count": 108,
   "id": "f174a2bd",
   "metadata": {},
   "outputs": [
    {
     "data": {
      "text/plain": [
       "<Axes: title={'center': 'Most Reviewed Genres'}, xlabel='Number of Reviews', ylabel='Genre Primary'>"
      ]
     },
     "execution_count": 108,
     "metadata": {},
     "output_type": "execute_result"
    },
    {
     "data": {
      "image/png": "[encoded data removed]",
      "text/plain": [
       "<Figure size 1000x600 with 1 Axes>"
      ]
     },
     "metadata": {},
     "output_type": "display_data"
    }
   ],
   "source": [
    "# sort in reverse order\n",
    "most_reviewed_genres = most_reviewed_genres.sort_values(by='count', ascending=True)\n",
    "most_reviewed_genres.plot(kind='barh', figsize=(10, 6), legend=False, title='Most Reviewed Genres', xlabel='Number of Reviews', ylabel='Genre Primary')"
   ]
  }
 ],
 "metadata": {
  "kernelspec": {
   "display_name": "base",
   "language": "python",
   "name": "python3"
  },
  "language_info": {
   "codemirror_mode": {
    "name": "ipython",
    "version": 3
   },
   "file_extension": ".py",
   "mimetype": "text/x-python",
   "name": "python",
   "nbconvert_exporter": "python",
   "pygments_lexer": "ipython3",
   "version": "3.13.5"
  }
 },
 "nbformat": 4,
 "nbformat_minor": 5
}
